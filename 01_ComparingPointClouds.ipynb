{
 "cells": [
  {
   "cell_type": "markdown",
   "metadata": {},
   "source": [
    "# Comparing Point Clouds\n",
    "\n",
    "In this notebook, we use decorated merge trees to compare toy point cloud data. The experiments here correspond to Figures 1 and 11 from our paper:\n",
    "\n",
    "[1] *Decorated Merge Trees for Persistenct Topology* by Justin Curry, Haibin Hang, Washington Mio, Tom Needham and Osman Okutan. [Arxiv](https://arxiv.org/abs/2103.15804). The paper has been published in [Journal of Applied and Computational Topology](https://link.springer.com/article/10.1007/s41468-022-00089-3).\n",
    "\n",
    "We will refer back to specific sections of this paper throughout the notebook. "
   ]
  },
  {
   "cell_type": "code",
   "execution_count": null,
   "metadata": {},
   "outputs": [],
   "source": [
    "import numpy as np\n",
    "import matplotlib.pyplot as plt\n",
    "from ripser import ripser\n",
    "import persim\n",
    "import networkx as nx\n",
    "from sklearn import manifold\n",
    "\n",
    "from DMT_tools import *\n",
    "from example_generating_functions import *\n",
    "\n",
    "import ot\n",
    "\n",
    "import time\n",
    "\n",
    "import warnings\n",
    "warnings.filterwarnings(\"ignore\")"
   ]
  },
  {
   "cell_type": "markdown",
   "metadata": {},
   "source": [
    "## Visualizing DMTs and Persistence Diagrams\n",
    "\n",
    "This section corresponds to Figure 1 of [1].\n",
    "\n",
    "We first generate some point clouds whose degree-0 and degree-1 persistent homology barcodes are similar, despite the point clouds having overall different topological structure.\n",
    "\n",
    "Note that we are using custom functions for generating toy point cloud data from `example_generating_functions.py`."
   ]
  },
  {
   "cell_type": "code",
   "execution_count": null,
   "metadata": {},
   "outputs": [],
   "source": [
    "# Generating 2d point cloud data\n",
    "\n",
    "point_clouds = []\n",
    "\n",
    "point_clouds.append(three_clusters_variable_circles(['circle','disk','circle','circle'],[1.5,1,1,2],4,3))\n",
    "point_clouds.append(three_clusters_variable_circles(['circle','circle','disk','circle'],[1.5,1,1,2],4,3))"
   ]
  },
  {
   "cell_type": "code",
   "execution_count": null,
   "metadata": {
    "scrolled": false
   },
   "outputs": [],
   "source": [
    "# Visualizing TDA signatures of the point clouds\n",
    "\n",
    "fig, axs = plt.subplots(2, 3, figsize = (15,10))\n",
    "    \n",
    "for j,data in enumerate(point_clouds):\n",
    "    \n",
    "    # Plot point cloud\n",
    "\n",
    "    ax = axs[j,0]\n",
    "    ax.set_title('Point Cloud'+str(j),fontsize = 16)\n",
    "    ax.scatter(data[:,0],data[:,1])\n",
    "    \n",
    "    # Plot persistence diagrams\n",
    "\n",
    "    ax = axs[j,1]\n",
    "    ax.set_title('Persistence Diagrams'+str(j),fontsize = 16)\n",
    "    dgms = ripser(data)['dgms']\n",
    "    persim.plot_diagrams(dgms, ax = ax)\n",
    "    \n",
    "    # Plot decorated merge trees\n",
    "    # Note: the merge tree class has a built in visualization method, but we are doing it\n",
    "    # 'by hand' here to fit into the overall figure\n",
    "\n",
    "    ax = axs[j,2]\n",
    "    ax.set_title('Decorated Merge Tree'+str(j),fontsize = 16)\n",
    "    ax.tick_params(left=True, bottom=False, labelleft=True, labelbottom=False)\n",
    "    \n",
    "    MT = MergeTree(pointCloud = data)\n",
    "    \n",
    "    tree_thresh = 0.2 # Simplification parameter for visualization\n",
    "    barcode_thresh = 0.4 # Simplification parameter for visualization\n",
    "    T_DMT, pos_DMT, edges, colors, weights = visualize_DMT_pointcloud(MT.tree,\n",
    "                                                                      MT.height,\n",
    "                                                                      dgms[1],\n",
    "                                                                      data,\n",
    "                                                                      tree_thresh,\n",
    "                                                                      barcode_thresh,\n",
    "                                                                      offset = .02,\n",
    "                                                                      draw = False)\n",
    "    nx.draw_networkx(T_DMT, \n",
    "                     pos = pos_DMT, \n",
    "                     edge_color=colors, \n",
    "                     width=weights,\n",
    "                     node_size = 0,\n",
    "                     with_labels = False,\n",
    "                     ax = ax)\n",
    "        \n",
    "\n",
    "fig.show()"
   ]
  },
  {
   "cell_type": "markdown",
   "metadata": {},
   "source": [
    "Observe in the above figure that the point clouds are not easily distinguished by their persistence diagrams (in either dimension), but that they are easily distinguished by their DMTs!"
   ]
  },
  {
   "cell_type": "markdown",
   "metadata": {},
   "source": [
    "## Clustering Point Clouds with DMTs\n",
    "\n",
    "Now we run a more quantitative experiment: we create 6 different classes of 2d point clouds, generate a few samples from each class and then compute the pairwise distance matrix for all samples using various TDA signatures. \n",
    "\n",
    "This experiment replicates Figure 11 of [1].\n",
    "\n",
    "The point clouds are deliberately chosen to be confusing for degree-0 and degree-1 TDA features. Parameters and models can be changed below."
   ]
  },
  {
   "cell_type": "code",
   "execution_count": null,
   "metadata": {},
   "outputs": [],
   "source": [
    "# Generate point clouds\n",
    "\n",
    "base_rad = 2\n",
    "base_sep1 = 6\n",
    "base_sep2 = 8\n",
    "pert1 = 0\n",
    "pert2 = 0\n",
    "\n",
    "templates = [three_clusters_variable_circles(['disk','circle','circle','circle'],[base_rad,base_rad,base_rad,base_rad],base_sep1,base_sep2),\n",
    "            three_clusters_variable_circles(['disk','circle','circle','circle'],[base_rad,base_rad,base_rad,base_rad+pert1],base_sep1,base_sep2+pert1),\n",
    "            three_clusters_variable_circles(['disk','circle','circle','circle'],[base_rad,base_rad,base_rad,base_rad+pert2],base_sep1,base_sep2+pert2),\n",
    "            three_clusters_variable_circles(['circle','circle','disk','circle'],[base_rad,base_rad,base_rad,base_rad],base_sep1,base_sep2),\n",
    "            three_clusters_variable_circles(['circle','circle','disk','circle'],[base_rad,base_rad,base_rad,base_rad+pert1],base_sep1,base_sep2+pert1),\n",
    "            three_clusters_variable_circles(['circle','circle','disk','circle'],[base_rad,base_rad,base_rad,base_rad+pert2],base_sep1,base_sep2+pert2),\n",
    "            three_clusters_variable_circles(['disk','circle','disk','circle'],[base_rad,base_rad,base_rad,base_rad],base_sep1,base_sep2),\n",
    "            three_clusters_variable_circles(['disk','circle','disk','circle'],[base_rad,base_rad,base_rad,base_rad+pert1],base_sep1,base_sep2+pert1),\n",
    "            three_clusters_variable_circles(['disk','circle','disk','circle'],[base_rad,base_rad,base_rad,base_rad+pert2],base_sep1,base_sep2+pert2),\n",
    "            two_clusters_variable_circles(['circle','circle','circle'],[base_rad,base_rad,base_rad],base_sep1),\n",
    "            two_clusters_variable_circles(['circle','circle','circle'],[base_rad,base_rad,base_rad],base_sep1),\n",
    "            two_clusters_variable_circles(['circle','circle','circle'],[base_rad,base_rad,base_rad],base_sep1),\n",
    "            two_clusters_variable_circles(['disk','circle','circle'],[base_rad,base_rad,base_rad,base_rad],base_sep1),\n",
    "            two_clusters_variable_circles(['disk','circle','circle'],[base_rad,base_rad,base_rad],base_sep1),\n",
    "            two_clusters_variable_circles(['disk','circle','circle'],[base_rad,base_rad,base_rad],base_sep1),\n",
    "            two_clusters_variable_circles(['circle','circle','disk'],[base_rad,base_rad,base_rad],base_sep1),\n",
    "            two_clusters_variable_circles(['circle','circle','disk'],[base_rad,base_rad,base_rad],base_sep1),\n",
    "            two_clusters_variable_circles(['circle','circle','disk'],[base_rad,base_rad,base_rad],base_sep1)]\n",
    "\n",
    "plt.figure(figsize = (10,20))\n",
    "\n",
    "num_templates = len(templates)\n",
    "\n",
    "for j in range(num_templates):\n",
    "    plt.subplot(6,3,j+1)\n",
    "    data = templates[j]\n",
    "    plt.scatter(data[:,0],data[:,1])\n",
    "    plt.axis('equal')\n",
    "    \n",
    "plt.show()"
   ]
  },
  {
   "cell_type": "code",
   "execution_count": null,
   "metadata": {
    "scrolled": true
   },
   "outputs": [],
   "source": [
    "# Pairwise distance matrices and compute times\n",
    "\n",
    "methods = ['deg0','deg1','int']\n",
    "\n",
    "distMats = {}\n",
    "times = {}\n",
    "\n",
    "for method in methods:\n",
    "    distMats[method] = np.zeros([len(templates),len(templates)])\n",
    "    times[method] = 0\n",
    "\n",
    "threshold = 2 # Simplification parameter for merge tree interleaving\n",
    "              # Large threshold speeds up computation but may give less accurate results\n",
    "\n",
    "for i,data_i in enumerate(templates):\n",
    "    \n",
    "    print('Starting Row',i)\n",
    "    \n",
    "    dgms_i = ripser(data_i)['dgms']\n",
    "    dgm0_i = dgms_i[0]\n",
    "    dgm1_i = dgms_i[1]\n",
    "    MT_i = MergeTree(pointCloud = data_i)\n",
    "    MT_i.fit_barcode(degree = 1)\n",
    "    MT_i.threshold(threshold)\n",
    "    \n",
    "    for j in range(i+1,len(templates)):\n",
    "        \n",
    "            data_j = templates[j]\n",
    "            \n",
    "            dgms_j = ripser(data_j)['dgms']\n",
    "            dgm0_j = dgms_j[0]\n",
    "            dgm1_j = dgms_j[1]\n",
    "            MT_j = MergeTree(pointCloud = data_j)\n",
    "            MT_j.fit_barcode(degree = 1)\n",
    "            MT_j.threshold(threshold)\n",
    "            \n",
    "            start = time.time()\n",
    "            distMats['deg0'][i,j] = bottleneck(dgm0_i,dgm0_j)\n",
    "            times['deg0'] += time.time() - start\n",
    "            \n",
    "            start = time.time()\n",
    "            distMats['deg1'][i,j] = bottleneck(dgm1_i,dgm1_j)\n",
    "            times['deg1'] += time.time() - start\n",
    "            \n",
    "            start = time.time()\n",
    "            res = DMT_interleaving_distance(MT_i,MT_j,1,verbose = True)\n",
    "            \n",
    "            distMats['int'][i,j] = res['dist']\n",
    "            times['int'] += time.time() - start\n",
    "            \n",
    "for method in methods:\n",
    "    distMats[method] += distMats[method].T\n",
    "    times[method] = np.round(times[method],2)"
   ]
  },
  {
   "cell_type": "code",
   "execution_count": null,
   "metadata": {},
   "outputs": [],
   "source": [
    "plt.figure(figsize = (15,5))\n",
    "\n",
    "for j,method in enumerate(methods):\n",
    "    plt.subplot(1,3,j+1)\n",
    "    Dist = distMats[method]\n",
    "    plt.imshow(Dist, cmap = plt.cm.coolwarm)\n",
    "    t = times[method]\n",
    "    plt.title(method+'\\n Time:'+str(t),fontsize = 16)\n",
    "\n",
    "plt.show()"
   ]
  },
  {
   "cell_type": "markdown",
   "metadata": {},
   "source": [
    "We see that the decorated merge tree interleaving distance is able to distinguish the classes. This is also illustrated in the apparent clustering in the MDS plots below."
   ]
  },
  {
   "cell_type": "code",
   "execution_count": null,
   "metadata": {},
   "outputs": [],
   "source": [
    "mds = manifold.MDS(n_components=2, dissimilarity=\"precomputed\")\n",
    "labels = 3*[0] + 3*[1] + 3*[2] + 3*[3] + 3*[4] + 3*[5]\n",
    "\n",
    "plt.figure(figsize = (20,5))\n",
    "\n",
    "for j,method in enumerate(methods):\n",
    "    plt.subplot(1,3,j+1)\n",
    "    Dist = distMats[method]\n",
    "    results = mds.fit(Dist)\n",
    "    coords = results.embedding_\n",
    "    plt.title(method,fontsize = 16)\n",
    "    plt.xticks([])\n",
    "    plt.yticks([])\n",
    "    plt.scatter(coords[:,0],coords[:,1],c = labels, cmap = plt.cm.plasma, s = 60)\n",
    "    plt.axis('equal')\n",
    "\n",
    "plt.show()"
   ]
  },
  {
   "cell_type": "code",
   "execution_count": null,
   "metadata": {},
   "outputs": [],
   "source": []
  }
 ],
 "metadata": {
  "kernelspec": {
   "display_name": "Python 3",
   "language": "python",
   "name": "python3"
  },
  "language_info": {
   "codemirror_mode": {
    "name": "ipython",
    "version": 3
   },
   "file_extension": ".py",
   "mimetype": "text/x-python",
   "name": "python",
   "nbconvert_exporter": "python",
   "pygments_lexer": "ipython3",
   "version": "3.7.4"
  }
 },
 "nbformat": 4,
 "nbformat_minor": 2
}
